{
 "cells": [
  {
   "cell_type": "code",
   "execution_count": 1,
   "metadata": {},
   "outputs": [],
   "source": [
    "import requests\n",
    "from bs4 import BeautifulSoup\n",
    "import random"
   ]
  },
  {
   "cell_type": "code",
   "execution_count": 24,
   "metadata": {},
   "outputs": [],
   "source": [
    "query = \"Hiệu trưởng ĐH Tôn Đức Thắng\"\n"
   ]
  },
  {
   "cell_type": "code",
   "execution_count": 31,
   "metadata": {},
   "outputs": [],
   "source": [
    "def UrlSearch(query):\n",
    "    domains = ['thethao247.vn', 'chinhphu.vn', 'nld.com.vn', 'plo.vn', 'vtc.vn', 'tienphong.vn', 'quochoi.vn', 'baochinhphu.vn', 'laodong.vn',  'vietnamnet.vn', 'suckhoedoisong.vn', 'tuoitre.vn', 'thanhnien.vn', 'vov.vn', 'doisongphapluat.vn', 'hanoimoi.com.vn', 'tapchicongsan.org', 'hochiminh.org', 'nhandan.com.vn','baophapluat.vn', 'baodautu.vn', 'vnmedia.vn', 'giaoducthoidai.vn', 'baodansinh.vn', 'vanhien.vn', 'dantri.com.vn', 'baomoi.com', 'bnews.vn', 'dantocmiennui.vn', 'vnanet.vn', 'vietnam.vnanet.vn', 'cucnghethuatbieudien.gov.vn', 'moh.gov.vn', 'covid19.gov.vn']\n",
    "    random.shuffle(domains)\n",
    "    site_query = ' OR '.join([f'site:{domain}' for domain in domains])\n",
    "    url = \"https://www.google.com/search?q=\" + query.replace(\" \", \"+\") + \" \" + site_query\n",
    "    # print(url)\n",
    "\n",
    "    headers = {'User-Agent': 'Mozilla/5.0 (Windows NT 10.0; Win64; x64) AppleWebKit/537.36 (KHTML, like Gecko) Chrome/58.0.3029.110 Safari/537.3'}\n",
    "\n",
    "    response = requests.get(url, headers=headers)\n",
    "    soup = BeautifulSoup(response.text, 'html.parser')\n",
    "\n",
    "    links = []\n",
    "    for div in soup.find_all('div', class_='yuRUbf'):\n",
    "        link = div.find('a')['href']\n",
    "        links.append(\"<li><a href=\"+link+\"></a></li>\")\n",
    "        return links\n",
    "    "
   ]
  },
  {
   "cell_type": "code",
   "execution_count": 32,
   "metadata": {},
   "outputs": [
    {
     "name": "stdout",
     "output_type": "stream",
     "text": [
      "['<li><a href=https://tuoitre.vn/ong-tran-trong-dao-lam-hieu-truong-truong-dai-hoc-ton-duc-thang-20221119144039628.htm></a></li>']\n"
     ]
    }
   ],
   "source": [
    "print(UrlSearch(query))"
   ]
  },
  {
   "cell_type": "code",
   "execution_count": 20,
   "metadata": {},
   "outputs": [],
   "source": [
    "query = \"Nguyễn Quốc Đạt xài ma túy\"\n",
    "domains = ['thethao247.vn', 'chinhphu.vn', 'nld.com.vn', 'plo.vn', 'vtc.vn', 'tienphong.vn', 'quochoi.vn', 'baochinhphu.vn', 'laodong.vn',  'vietnamnet.vn', 'suckhoedoisong.vn', 'tuoitre.vn', 'thanhnien.vn', 'vov.vn', 'doisongphapluat.vn', 'hanoimoi.com.vn', 'tapchicongsan.org', 'hochiminh.org', 'nhandan.com.vn','baophapluat.vn', 'baodautu.vn', 'vnmedia.vn', 'giaoducthoidai.vn', 'baodansinh.vn', 'vanhien.vn', 'dantri.com.vn', 'baomoi.com', 'bnews.vn', 'dantocmiennui.vn', 'vnanet.vn', 'vietnam.vnanet.vn', 'cucnghethuatbieudien.gov.vn', 'moh.gov.vn', 'covid19.gov.vn']\n",
    "random.shuffle(domains)\n",
    "site_query = ' OR '.join([f'site:{domain}' for domain in domains])"
   ]
  },
  {
   "cell_type": "code",
   "execution_count": 33,
   "metadata": {},
   "outputs": [],
   "source": [
    "url = \"https://www.google.com/search?q=\" + query.replace(\" \", \"+\") + \" \" + site_query\n",
    "# print(url)\n",
    "\n",
    "headers = {'User-Agent': 'Mozilla/5.0 (Windows NT 10.0; Win64; x64) AppleWebKit/537.36 (KHTML, like Gecko) Chrome/58.0.3029.110 Safari/537.3'}\n",
    "\n",
    "response = requests.get(url, headers=headers)\n",
    "soup = BeautifulSoup(response.text, 'html.parser')"
   ]
  },
  {
   "cell_type": "code",
   "execution_count": 34,
   "metadata": {},
   "outputs": [],
   "source": [
    "links = []\n",
    "for div in soup.find_all('div', class_='yuRUbf'):\n",
    "    link = div.find('a')['href']\n",
    "    links.append(\"<li><a href=\"+link+\"></a></li>\")\n"
   ]
  },
  {
   "cell_type": "code",
   "execution_count": 35,
   "metadata": {},
   "outputs": [
    {
     "name": "stdout",
     "output_type": "stream",
     "text": [
      "<li><a href=https://thanhnien.vn/truong-dh-ton-duc-thang-chinh-thuc-co-hieu-truong-moi-1851523154.htm></a></li>\n",
      "<li><a href=https://tienphong.vn/dai-hoc-ton-duc-thang-chinh-thuc-co-hieu-truong-post1487789.tpo></a></li>\n",
      "<li><a href=https://laodong.vn/cong-doan/tien-si-tran-trong-dao-lam-hieu-truong-truong-dai-hoc-ton-duc-thang-1118376.ldo></a></li>\n",
      "<li><a href=https://vietnamnet.vn/tien-si-41-tuoi-lam-hieu-truong-truong-dh-ton-duc-thang-2082448.html></a></li>\n",
      "<li><a href=https://vtc.vn/tien-si-41-tuoi-lam-hieu-truong-dai-hoc-ton-duc-thang-ar714920.html></a></li>\n",
      "<li><a href=https://tienphong.vn/sau-8-thang-dai-hoc-ton-duc-thang-da-co-quyen-hieu-truong-post1331767.tpo></a></li>\n",
      "<li><a href=https://vov.vn/xa-hoi/giu-nguyen-quyet-dinh-ky-luat-hieu-truong-truong-dai-hoc-ton-duc-thang-845022.vov></a></li>\n",
      "<li><a href=https://thanhnien.vn/vi-sao-ong-le-vinh-danh-bi-dinh-chi-chuc-vu-hieu-truong-truong-dh-ton-duc-thang-185988027.htm></a></li>\n",
      "<li><a href=https://thanhnien.vn/ts-tran-trong-dao-lam-quyen-hieu-truong-truong-dh-ton-duc-thang-1851061405.htm></a></li>\n"
     ]
    }
   ],
   "source": [
    "for link in links:\n",
    "    print(link)"
   ]
  }
 ],
 "metadata": {
  "kernelspec": {
   "display_name": "Python 3",
   "language": "python",
   "name": "python3"
  },
  "language_info": {
   "codemirror_mode": {
    "name": "ipython",
    "version": 3
   },
   "file_extension": ".py",
   "mimetype": "text/x-python",
   "name": "python",
   "nbconvert_exporter": "python",
   "pygments_lexer": "ipython3",
   "version": "3.10.10"
  },
  "orig_nbformat": 4
 },
 "nbformat": 4,
 "nbformat_minor": 2
}
